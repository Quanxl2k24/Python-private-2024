{
 "cells": [
  {
   "cell_type": "code",
   "execution_count": null,
   "metadata": {
    "id": "zFQi1evWuopi"
   },
   "outputs": [],
   "source": [
    "def giaithua(x):\n",
    "    if (x == 0 or x == 1):\n",
    "        return 1;\n",
    "    else:\n",
    "        return (x * giaithua(x - 1));"
   ]
  },
  {
   "cell_type": "code",
   "execution_count": null,
   "metadata": {
    "colab": {
     "base_uri": "https://localhost:8080/"
    },
    "executionInfo": {
     "elapsed": 3797,
     "status": "ok",
     "timestamp": 1730397923062,
     "user": {
      "displayName": "Hoang Ver",
      "userId": "01153212629152658268"
     },
     "user_tz": -420
    },
    "id": "9rNl82GBrGaf",
    "outputId": "fda65996-834e-4b49-c787-5f252b2acb64"
   },
   "outputs": [
    {
     "name": "stdout",
     "output_type": "stream",
     "text": [
      "Nhap gia tri x:2\n",
      "7.389056098930649\n"
     ]
    }
   ],
   "source": [
    "# Ham tinh e^x\n",
    "x = int(input(\"Nhap gia tri x:\"))\n",
    "\n",
    "n = 900\n",
    "tmp = 0\n",
    "for i in range(0,n,1):\n",
    "  tmp += (x**i)/giaithua(i)\n",
    "\n",
    "print(tmp)\n"
   ]
  },
  {
   "cell_type": "code",
   "execution_count": null,
   "metadata": {
    "colab": {
     "base_uri": "https://localhost:8080/"
    },
    "executionInfo": {
     "elapsed": 396,
     "status": "ok",
     "timestamp": 1730398139787,
     "user": {
      "displayName": "Hoang Ver",
      "userId": "01153212629152658268"
     },
     "user_tz": -420
    },
    "id": "1sCT6MbGu_oj",
    "outputId": "184bc2c6-1349-4dc9-bb1b-1fd882ffc073"
   },
   "outputs": [
    {
     "name": "stdout",
     "output_type": "stream",
     "text": [
      "2.7182818284590455\n"
     ]
    }
   ],
   "source": [
    "# ham tinh S\n",
    "\n",
    "n = 900\n",
    "tmp = 0\n",
    "for i in range(0,n,1):\n",
    "  tmp += (1)/giaithua(i)\n",
    "\n",
    "print(tmp)\n"
   ]
  },
  {
   "cell_type": "code",
   "execution_count": null,
   "metadata": {
    "colab": {
     "base_uri": "https://localhost:8080/"
    },
    "executionInfo": {
     "elapsed": 4567,
     "status": "ok",
     "timestamp": 1730399575374,
     "user": {
      "displayName": "Hoang Ver",
      "userId": "01153212629152658268"
     },
     "user_tz": -420
    },
    "id": "PwaAasTSxGMq",
    "outputId": "3c7052f7-f871-4638-c679-ef4f41cc68b0"
   },
   "outputs": [
    {
     "name": "stdout",
     "output_type": "stream",
     "text": [
      "100\n",
      "8\n"
     ]
    }
   ],
   "source": [
    "# dem so uoc le(so chinh phuong)\n",
    "\n",
    "import math\n",
    "n = int(input())\n",
    "\n",
    "tmp = 0\n",
    "\n",
    "for i in range(2,n,1):\n",
    "  if i % math.sqrt(i) == 0:\n",
    "    tmp += 1\n",
    "print(tmp)\n",
    "\n",
    "\n"
   ]
  },
  {
   "cell_type": "code",
   "execution_count": null,
   "metadata": {
    "colab": {
     "base_uri": "https://localhost:8080/"
    },
    "executionInfo": {
     "elapsed": 15119,
     "status": "ok",
     "timestamp": 1730403241707,
     "user": {
      "displayName": "Hoang Ver",
      "userId": "01153212629152658268"
     },
     "user_tz": -420
    },
    "id": "Jt5aINL72kxr",
    "outputId": "aca16d38-0ad8-45b9-d298-561a0a8b928d"
   },
   "outputs": [
    {
     "name": "stdout",
     "output_type": "stream",
     "text": [
      "1\n",
      "Hung\n",
      "50\n",
      "60\n",
      "Hung 110 Kha\n"
     ]
    }
   ],
   "source": [
    "# xep loai hoc luc them diem\n",
    "\n",
    "n = int(input())\n",
    "a = [n]\n",
    "d = [n]\n",
    "\n",
    "for i in range(0,n,1):\n",
    "  a.append(input())\n",
    "  b = int(input())\n",
    "  c = int(input())\n",
    "  d.append(b + c)\n",
    "\n",
    "for i in range(n):\n",
    "  if d[i + 1] <100:\n",
    "    kq = \"Yeu\"\n",
    "  if d[i + 1] >= 100 and d[i + 1] < 150:\n",
    "    kq = \"Kha\"\n",
    "  if d[i + 1] >= 150 and d[i + 1] < 190:\n",
    "    kq = \"Gioi\"\n",
    "  if d[i + 1] >= 190 and d[i + 1] <= 200:\n",
    "    kq = \"Xuat sac\"\n",
    "  print(a[i+1],d[i+1],kq)\n"
   ]
  },
  {
   "cell_type": "code",
   "execution_count": 3,
   "metadata": {
    "colab": {
     "base_uri": "https://localhost:8080/"
    },
    "executionInfo": {
     "elapsed": 12341,
     "status": "ok",
     "timestamp": 1730428788626,
     "user": {
      "displayName": "Hoang Ver",
      "userId": "01153212629152658268"
     },
     "user_tz": -420
    },
    "id": "RMLexj7lDpBF",
    "outputId": "8611fa37-4e6e-4075-968b-1d0e854598fa"
   },
   "outputs": [
    {
     "name": "stdout",
     "output_type": "stream",
     "text": [
      "quanbui@gmail.com\n",
      "Valid\n"
     ]
    }
   ],
   "source": [
    "#dinh chuan gmail\n",
    "\n",
    "import re\n",
    "\n",
    "email = input()\n",
    "\n",
    "pattern = r'^\\w+@\\w+\\.\\w+$'\n",
    "\n",
    "if re.match(pattern, email):\n",
    "  print(\"Valid\")\n",
    "else:\n",
    "  print(\"invalid\")\n"
   ]
  },
  {
   "cell_type": "code",
   "execution_count": 12,
   "metadata": {
    "colab": {
     "base_uri": "https://localhost:8080/"
    },
    "executionInfo": {
     "elapsed": 22403,
     "status": "ok",
     "timestamp": 1730430568036,
     "user": {
      "displayName": "Hoang Ver",
      "userId": "01153212629152658268"
     },
     "user_tz": -420
    },
    "id": "jF8I1EDDlwcI",
    "outputId": "60bfce6f-02be-4b13-94cb-ebdf9ad01f46"
   },
   "outputs": [
    {
     "name": "stdout",
     "output_type": "stream",
     "text": [
      "4\n",
      "voi\n",
      "huou\n",
      "ngua\n",
      "sutu\n",
      "40\n",
      "20\n",
      "10\n",
      "15\n",
      "[(4, 4), ('voi', 40), ('huou', 20), ('ngua', 10), ('sutu', 15)]\n",
      "85\n",
      "voi\n",
      "Khong co\n"
     ]
    }
   ],
   "source": [
    "# thuc an trong so thu\n",
    "\n",
    "n = int(input())\n",
    "\n",
    "a = [n]\n",
    "d = [n]\n",
    "\n",
    "for i in range(n):\n",
    "  a.append(input())\n",
    "for i in range(n):\n",
    "  d.append(int(input()))\n",
    "\n",
    "c = 0\n",
    "\n",
    "tmp = 0\n",
    "tg = 0\n",
    "for i in range(n):\n",
    "  if d[i+1] > tg:\n",
    "    tg = d[i + 1]\n",
    "    c = i + 1\n",
    "\n",
    "  tmp += d[i + 1]\n",
    "\n",
    "  tmp_itnhat = 0\n",
    "  if d[i + 1] < 5:\n",
    "    tmp_itnhat += 1\n",
    "\n",
    "ad = zip(a,d)\n",
    "print (list(ad))\n",
    "print(tmp)\n",
    "print(a[c])\n",
    "\n",
    "if tmp_itnhat == 0:\n",
    "  print (\"Khong co\")\n",
    "else:\n",
    "  print(tmp_itnhat)\n",
    "\n",
    "\n",
    "\n"
   ]
  },
  {
   "cell_type": "code",
   "execution_count": null,
   "metadata": {
    "colab": {
     "base_uri": "https://localhost:8080/"
    },
    "executionInfo": {
     "elapsed": 11388,
     "status": "ok",
     "timestamp": 1730432618720,
     "user": {
      "displayName": "Hoang Ver",
      "userId": "01153212629152658268"
     },
     "user_tz": -420
    },
    "id": "T8w4v6GkszbW",
    "outputId": "6e89a9c6-cb02-45d0-d47d-ccea1a2e8848"
   },
   "outputs": [
    {
     "name": "stdout",
     "output_type": "stream",
     "text": [
      "12\n",
      "eLU\n",
      "12\n"
     ]
    }
   ],
   "source": [
    "# nhap x vd ten ham de tinh toan:\n",
    "\n",
    "\n",
    "import math\n",
    "\n",
    "def binary(x):\n",
    "  if x < 0:\n",
    "    print(0)\n",
    "  else:\n",
    "    print(1)\n",
    "\n",
    "def sigmoid(x):\n",
    "  print(1/(math.e**(-x)))\n",
    "\n",
    "def elu(x):\n",
    "  if x < 0:\n",
    "    print(0.01*((math.e**x) - 1))\n",
    "  else:\n",
    "    print(x)\n",
    "x =  int(input())\n",
    "def is_number(x):\n",
    "  try:\n",
    "    float(x)\n",
    "    return True\n",
    "  except ValueError:\n",
    "    return False\n",
    "\n",
    "name_function = input()\n",
    "\n",
    "name_function=name_function.lower()\n",
    "\n",
    "if (name_function == \"binary\"):\n",
    "  binary(x)\n",
    "elif (name_function == \"sigmoid\"):\n",
    "  sigmoid(x)\n",
    "elif (name_function == \"elu\"):\n",
    "  elu(x)\n",
    "else:\n",
    "  print(\"Invalid\")\n"
   ]
  }
 ],
 "metadata": {
  "colab": {
   "authorship_tag": "ABX9TyOd233/yJM7dO2DNxiBBwSu",
   "provenance": []
  },
  "kernelspec": {
   "display_name": "Python 3",
   "name": "python3"
  },
  "language_info": {
   "name": "python",
   "version": "3.11.9"
  }
 },
 "nbformat": 4,
 "nbformat_minor": 0
}
